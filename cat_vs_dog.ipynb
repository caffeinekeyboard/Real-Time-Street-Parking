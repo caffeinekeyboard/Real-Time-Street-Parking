{
 "cells": [
  {
   "cell_type": "code",
   "execution_count": 1,
   "metadata": {},
   "outputs": [
    {
     "name": "stderr",
     "output_type": "stream",
     "text": [
      "2023-09-14 20:12:41.882863: I tensorflow/core/util/port.cc:110] oneDNN custom operations are on. You may see slightly different numerical results due to floating-point round-off errors from different computation orders. To turn them off, set the environment variable `TF_ENABLE_ONEDNN_OPTS=0`.\n",
      "2023-09-14 20:12:41.939055: I tensorflow/core/platform/cpu_feature_guard.cc:182] This TensorFlow binary is optimized to use available CPU instructions in performance-critical operations.\n",
      "To enable the following instructions: AVX2 AVX_VNNI FMA, in other operations, rebuild TensorFlow with the appropriate compiler flags.\n",
      "2023-09-14 20:12:42.785478: W tensorflow/compiler/tf2tensorrt/utils/py_utils.cc:38] TF-TRT Warning: Could not find TensorRT\n"
     ]
    }
   ],
   "source": [
    "import numpy as np\n",
    "import random\n",
    "import matplotlib.pyplot as plt\n",
    "from tensorflow.keras.models import Sequential\n",
    "from tensorflow.keras.layers import Conv2D, MaxPooling2D, Dense, Flatten"
   ]
  },
  {
   "cell_type": "code",
   "execution_count": 2,
   "metadata": {},
   "outputs": [],
   "source": [
    "X_train = np.loadtxt('Image Classification CNN Keras Dataset/input.csv', delimiter=',')\n",
    "Y_train = np.loadtxt('Image Classification CNN Keras Dataset/labels.csv', delimiter=',')\n",
    "\n",
    "X_test = np.loadtxt('Image Classification CNN Keras Dataset/input_test.csv', delimiter=',')\n",
    "Y_test = np.loadtxt('Image Classification CNN Keras Dataset/labels_test.csv', delimiter=',')"
   ]
  },
  {
   "cell_type": "code",
   "execution_count": 3,
   "metadata": {},
   "outputs": [],
   "source": [
    "X_train = X_train.reshape(len(X_train), 100, 100, 3)\n",
    "Y_train = Y_train.reshape(len(Y_train), 1)\n",
    "\n",
    "X_test = X_test.reshape(len(X_test), 100, 100, 3)\n",
    "Y_test = Y_test.reshape(len(Y_test), 1)\n",
    "\n",
    "X_train = X_train/255.0\n",
    "X_test = X_test/255.0"
   ]
  },
  {
   "cell_type": "code",
   "execution_count": 4,
   "metadata": {},
   "outputs": [
    {
     "name": "stderr",
     "output_type": "stream",
     "text": [
      "2023-09-14 20:12:55.050480: I tensorflow/compiler/xla/stream_executor/cuda/cuda_gpu_executor.cc:995] successful NUMA node read from SysFS had negative value (-1), but there must be at least one NUMA node, so returning NUMA node zero. See more at https://github.com/torvalds/linux/blob/v6.0/Documentation/ABI/testing/sysfs-bus-pci#L344-L355\n",
      "2023-09-14 20:12:55.073935: I tensorflow/compiler/xla/stream_executor/cuda/cuda_gpu_executor.cc:995] successful NUMA node read from SysFS had negative value (-1), but there must be at least one NUMA node, so returning NUMA node zero. See more at https://github.com/torvalds/linux/blob/v6.0/Documentation/ABI/testing/sysfs-bus-pci#L344-L355\n",
      "2023-09-14 20:12:55.074151: I tensorflow/compiler/xla/stream_executor/cuda/cuda_gpu_executor.cc:995] successful NUMA node read from SysFS had negative value (-1), but there must be at least one NUMA node, so returning NUMA node zero. See more at https://github.com/torvalds/linux/blob/v6.0/Documentation/ABI/testing/sysfs-bus-pci#L344-L355\n",
      "2023-09-14 20:12:55.077102: I tensorflow/compiler/xla/stream_executor/cuda/cuda_gpu_executor.cc:995] successful NUMA node read from SysFS had negative value (-1), but there must be at least one NUMA node, so returning NUMA node zero. See more at https://github.com/torvalds/linux/blob/v6.0/Documentation/ABI/testing/sysfs-bus-pci#L344-L355\n",
      "2023-09-14 20:12:55.077283: I tensorflow/compiler/xla/stream_executor/cuda/cuda_gpu_executor.cc:995] successful NUMA node read from SysFS had negative value (-1), but there must be at least one NUMA node, so returning NUMA node zero. See more at https://github.com/torvalds/linux/blob/v6.0/Documentation/ABI/testing/sysfs-bus-pci#L344-L355\n",
      "2023-09-14 20:12:55.077409: I tensorflow/compiler/xla/stream_executor/cuda/cuda_gpu_executor.cc:995] successful NUMA node read from SysFS had negative value (-1), but there must be at least one NUMA node, so returning NUMA node zero. See more at https://github.com/torvalds/linux/blob/v6.0/Documentation/ABI/testing/sysfs-bus-pci#L344-L355\n",
      "2023-09-14 20:12:55.236548: I tensorflow/compiler/xla/stream_executor/cuda/cuda_gpu_executor.cc:995] successful NUMA node read from SysFS had negative value (-1), but there must be at least one NUMA node, so returning NUMA node zero. See more at https://github.com/torvalds/linux/blob/v6.0/Documentation/ABI/testing/sysfs-bus-pci#L344-L355\n",
      "2023-09-14 20:12:55.236726: I tensorflow/compiler/xla/stream_executor/cuda/cuda_gpu_executor.cc:995] successful NUMA node read from SysFS had negative value (-1), but there must be at least one NUMA node, so returning NUMA node zero. See more at https://github.com/torvalds/linux/blob/v6.0/Documentation/ABI/testing/sysfs-bus-pci#L344-L355\n",
      "2023-09-14 20:12:55.236859: I tensorflow/compiler/xla/stream_executor/cuda/cuda_gpu_executor.cc:995] successful NUMA node read from SysFS had negative value (-1), but there must be at least one NUMA node, so returning NUMA node zero. See more at https://github.com/torvalds/linux/blob/v6.0/Documentation/ABI/testing/sysfs-bus-pci#L344-L355\n",
      "2023-09-14 20:12:55.236973: I tensorflow/core/common_runtime/gpu/gpu_device.cc:1639] Created device /job:localhost/replica:0/task:0/device:GPU:0 with 6270 MB memory:  -> device: 0, name: NVIDIA GeForce RTX 3070 Ti Laptop GPU, pci bus id: 0000:01:00.0, compute capability: 8.6\n"
     ]
    }
   ],
   "source": [
    "model = Sequential([\n",
    "    Conv2D(32, (3,3), activation = 'relu', input_shape = (100, 100, 3)),\n",
    "    MaxPooling2D((2,2)),\n",
    "    \n",
    "    Conv2D(32, (3,3), activation = 'relu'),\n",
    "    MaxPooling2D((2,2)),\n",
    "    \n",
    "    Flatten(),\n",
    "    Dense(64, activation = 'relu'),\n",
    "    Dense(1, activation = 'sigmoid')\n",
    "])"
   ]
  },
  {
   "cell_type": "code",
   "execution_count": 5,
   "metadata": {},
   "outputs": [],
   "source": [
    "model.compile(loss = 'binary_crossentropy', optimizer = 'adam', metrics = ['accuracy'])"
   ]
  },
  {
   "cell_type": "code",
   "execution_count": 6,
   "metadata": {},
   "outputs": [
    {
     "name": "stdout",
     "output_type": "stream",
     "text": [
      "Epoch 1/50\n"
     ]
    },
    {
     "name": "stderr",
     "output_type": "stream",
     "text": [
      "2023-09-14 20:12:56.612109: I tensorflow/compiler/xla/stream_executor/cuda/cuda_dnn.cc:432] Loaded cuDNN version 8600\n",
      "2023-09-14 20:12:56.794816: I tensorflow/compiler/xla/stream_executor/cuda/cuda_blas.cc:606] TensorFloat-32 will be used for the matrix multiplication. This will only be logged once.\n",
      "2023-09-14 20:12:56.844003: I tensorflow/compiler/xla/service/service.cc:168] XLA service 0x7f9980e004f0 initialized for platform CUDA (this does not guarantee that XLA will be used). Devices:\n",
      "2023-09-14 20:12:56.844033: I tensorflow/compiler/xla/service/service.cc:176]   StreamExecutor device (0): NVIDIA GeForce RTX 3070 Ti Laptop GPU, Compute Capability 8.6\n",
      "2023-09-14 20:12:56.862779: I tensorflow/compiler/mlir/tensorflow/utils/dump_mlir_util.cc:255] disabling MLIR crash reproducer, set env var `MLIR_CRASH_REPRODUCER_DIRECTORY` to enable.\n",
      "2023-09-14 20:12:57.010526: I ./tensorflow/compiler/jit/device_compiler.h:186] Compiled cluster using XLA!  This line is logged at most once for the lifetime of the process.\n"
     ]
    },
    {
     "name": "stdout",
     "output_type": "stream",
     "text": [
      "32/32 [==============================] - 2s 15ms/step - loss: 0.7522 - accuracy: 0.5045\n",
      "Epoch 2/50\n",
      "32/32 [==============================] - 0s 10ms/step - loss: 0.6677 - accuracy: 0.5890\n",
      "Epoch 3/50\n",
      "32/32 [==============================] - 0s 9ms/step - loss: 0.6450 - accuracy: 0.6145\n",
      "Epoch 4/50\n",
      "32/32 [==============================] - 0s 8ms/step - loss: 0.5829 - accuracy: 0.7065\n",
      "Epoch 5/50\n",
      "32/32 [==============================] - 0s 8ms/step - loss: 0.5380 - accuracy: 0.7450\n",
      "Epoch 6/50\n",
      "32/32 [==============================] - 0s 8ms/step - loss: 0.4646 - accuracy: 0.7885\n",
      "Epoch 7/50\n",
      "32/32 [==============================] - 0s 8ms/step - loss: 0.4266 - accuracy: 0.8100\n",
      "Epoch 8/50\n",
      "32/32 [==============================] - 0s 8ms/step - loss: 0.3796 - accuracy: 0.8345\n",
      "Epoch 9/50\n",
      "32/32 [==============================] - 0s 8ms/step - loss: 0.3314 - accuracy: 0.8595\n",
      "Epoch 10/50\n",
      "32/32 [==============================] - 0s 8ms/step - loss: 0.2881 - accuracy: 0.8930\n",
      "Epoch 11/50\n",
      "32/32 [==============================] - 0s 8ms/step - loss: 0.2539 - accuracy: 0.8950\n",
      "Epoch 12/50\n",
      "32/32 [==============================] - 0s 8ms/step - loss: 0.1998 - accuracy: 0.9270\n",
      "Epoch 13/50\n",
      "32/32 [==============================] - 0s 9ms/step - loss: 0.1600 - accuracy: 0.9510\n",
      "Epoch 14/50\n",
      "32/32 [==============================] - 0s 10ms/step - loss: 0.1406 - accuracy: 0.9565\n",
      "Epoch 15/50\n",
      "32/32 [==============================] - 0s 8ms/step - loss: 0.1099 - accuracy: 0.9685\n",
      "Epoch 16/50\n",
      "32/32 [==============================] - 0s 8ms/step - loss: 0.0909 - accuracy: 0.9750\n",
      "Epoch 17/50\n",
      "32/32 [==============================] - 0s 8ms/step - loss: 0.0738 - accuracy: 0.9830\n",
      "Epoch 18/50\n",
      "32/32 [==============================] - 0s 8ms/step - loss: 0.0466 - accuracy: 0.9925\n",
      "Epoch 19/50\n",
      "32/32 [==============================] - 0s 8ms/step - loss: 0.0341 - accuracy: 0.9975\n",
      "Epoch 20/50\n",
      "32/32 [==============================] - 0s 8ms/step - loss: 0.0255 - accuracy: 0.9975\n",
      "Epoch 21/50\n",
      "32/32 [==============================] - 0s 8ms/step - loss: 0.0239 - accuracy: 0.9985\n",
      "Epoch 22/50\n",
      "32/32 [==============================] - 0s 9ms/step - loss: 0.0160 - accuracy: 0.9995\n",
      "Epoch 23/50\n",
      "32/32 [==============================] - 0s 9ms/step - loss: 0.0130 - accuracy: 1.0000\n",
      "Epoch 24/50\n",
      "32/32 [==============================] - 0s 8ms/step - loss: 0.0086 - accuracy: 1.0000\n",
      "Epoch 25/50\n",
      "32/32 [==============================] - 0s 9ms/step - loss: 0.0065 - accuracy: 1.0000\n",
      "Epoch 26/50\n",
      "32/32 [==============================] - 0s 8ms/step - loss: 0.0055 - accuracy: 1.0000\n",
      "Epoch 27/50\n",
      "32/32 [==============================] - 0s 9ms/step - loss: 0.0043 - accuracy: 1.0000\n",
      "Epoch 28/50\n",
      "32/32 [==============================] - 0s 8ms/step - loss: 0.0037 - accuracy: 1.0000\n",
      "Epoch 29/50\n",
      "32/32 [==============================] - 0s 8ms/step - loss: 0.0032 - accuracy: 1.0000\n",
      "Epoch 30/50\n",
      "32/32 [==============================] - 0s 8ms/step - loss: 0.0029 - accuracy: 1.0000\n",
      "Epoch 31/50\n",
      "32/32 [==============================] - 0s 8ms/step - loss: 0.0027 - accuracy: 1.0000\n",
      "Epoch 32/50\n",
      "32/32 [==============================] - 0s 8ms/step - loss: 0.0022 - accuracy: 1.0000\n",
      "Epoch 33/50\n",
      "32/32 [==============================] - 0s 8ms/step - loss: 0.0021 - accuracy: 1.0000\n",
      "Epoch 34/50\n",
      "32/32 [==============================] - 0s 9ms/step - loss: 0.0019 - accuracy: 1.0000\n",
      "Epoch 35/50\n",
      "32/32 [==============================] - 0s 8ms/step - loss: 0.0017 - accuracy: 1.0000\n",
      "Epoch 36/50\n",
      "32/32 [==============================] - 0s 8ms/step - loss: 0.0016 - accuracy: 1.0000\n",
      "Epoch 37/50\n",
      "32/32 [==============================] - 0s 9ms/step - loss: 0.0014 - accuracy: 1.0000\n",
      "Epoch 38/50\n",
      "32/32 [==============================] - 0s 8ms/step - loss: 0.0013 - accuracy: 1.0000\n",
      "Epoch 39/50\n",
      "32/32 [==============================] - 0s 8ms/step - loss: 0.0012 - accuracy: 1.0000\n",
      "Epoch 40/50\n",
      "32/32 [==============================] - 0s 8ms/step - loss: 0.0011 - accuracy: 1.0000\n",
      "Epoch 41/50\n",
      "32/32 [==============================] - 0s 8ms/step - loss: 0.0010 - accuracy: 1.0000\n",
      "Epoch 42/50\n",
      "32/32 [==============================] - 0s 8ms/step - loss: 9.5110e-04 - accuracy: 1.0000\n",
      "Epoch 43/50\n",
      "32/32 [==============================] - 0s 9ms/step - loss: 8.9296e-04 - accuracy: 1.0000\n",
      "Epoch 44/50\n",
      "32/32 [==============================] - 0s 8ms/step - loss: 8.4087e-04 - accuracy: 1.0000\n",
      "Epoch 45/50\n",
      "32/32 [==============================] - 0s 9ms/step - loss: 7.9815e-04 - accuracy: 1.0000\n",
      "Epoch 46/50\n",
      "32/32 [==============================] - 0s 8ms/step - loss: 7.6622e-04 - accuracy: 1.0000\n",
      "Epoch 47/50\n",
      "32/32 [==============================] - 0s 8ms/step - loss: 6.9315e-04 - accuracy: 1.0000\n",
      "Epoch 48/50\n",
      "32/32 [==============================] - 0s 8ms/step - loss: 6.4882e-04 - accuracy: 1.0000\n",
      "Epoch 49/50\n",
      "32/32 [==============================] - 0s 9ms/step - loss: 6.1308e-04 - accuracy: 1.0000\n",
      "Epoch 50/50\n",
      "32/32 [==============================] - 0s 10ms/step - loss: 5.7281e-04 - accuracy: 1.0000\n"
     ]
    },
    {
     "data": {
      "text/plain": [
       "<keras.src.callbacks.History at 0x7f9b227357c0>"
      ]
     },
     "execution_count": 6,
     "metadata": {},
     "output_type": "execute_result"
    }
   ],
   "source": [
    "model.fit(X_train, Y_train, epochs = 50, batch_size = 64)"
   ]
  },
  {
   "cell_type": "code",
   "execution_count": 7,
   "metadata": {},
   "outputs": [
    {
     "name": "stdout",
     "output_type": "stream",
     "text": [
      "13/13 [==============================] - 0s 3ms/step - loss: 1.7625 - accuracy: 0.6850\n"
     ]
    },
    {
     "data": {
      "text/plain": [
       "[1.7625296115875244, 0.6850000023841858]"
      ]
     },
     "execution_count": 7,
     "metadata": {},
     "output_type": "execute_result"
    }
   ],
   "source": [
    "model.evaluate(X_test, Y_test)"
   ]
  },
  {
   "cell_type": "code",
   "execution_count": 36,
   "metadata": {},
   "outputs": [
    {
     "data": {
      "image/png": "[encoded data removed]",
      "text/plain": [
       "<Figure size 640x480 with 1 Axes>"
      ]
     },
     "metadata": {},
     "output_type": "display_data"
    },
    {
     "name": "stdout",
     "output_type": "stream",
     "text": [
      "1/1 [==============================] - 0s 17ms/step\n",
      "Model predicts as:  dog\n"
     ]
    }
   ],
   "source": [
    "idx2 = random.randint(0, len(Y_test))\n",
    "plt.imshow(X_test[idx2, :])\n",
    "plt.show()\n",
    "\n",
    "y_pred = model.predict(X_test[idx2, :].reshape(1, 100, 100, 3))\n",
    "y_pred = y_pred>0.5\n",
    "\n",
    "if(y_pred == 0):\n",
    "    pred = 'dog'\n",
    "else:\n",
    "    pred = 'cat'\n",
    "print(\"Model predicts as a: \",pred)"
   ]
  }
 ],
 "metadata": {
  "kernelspec": {
   "display_name": "Python 3.9 (tensorflow)",
   "language": "python",
   "name": "tensorflow"
  },
  "language_info": {
   "codemirror_mode": {
    "name": "ipython",
    "version": 3
   },
   "file_extension": ".py",
   "mimetype": "text/x-python",
   "name": "python",
   "nbconvert_exporter": "python",
   "pygments_lexer": "ipython3",
   "version": "3.9.18"
  },
  "orig_nbformat": 4
 },
 "nbformat": 4,
 "nbformat_minor": 2
}
